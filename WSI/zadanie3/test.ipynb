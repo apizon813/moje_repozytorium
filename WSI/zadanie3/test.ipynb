{
 "cells": [
  {
   "cell_type": "code",
   "execution_count": 9,
   "metadata": {},
   "outputs": [
    {
     "data": {
      "text/plain": [
       "array([[1, 2, 3],\n",
       "       [4, 5, 6],\n",
       "       [7, 8, 9]])"
      ]
     },
     "execution_count": 9,
     "metadata": {},
     "output_type": "execute_result"
    }
   ],
   "source": [
    "import numpy as np\n",
    "# tworzenie talicy do gry\n",
    "\n",
    "dim = 3\n",
    "num = 1\n",
    "table = []\n",
    "for i in range(dim):\n",
    "    row = []\n",
    "    for j in range(dim):\n",
    "        row.append(num)\n",
    "        num += 1\n",
    "    table.append(row)\n",
    "matrix = np.array(table)\n",
    "matrix\n",
    "\n"
   ]
  },
  {
   "cell_type": "code",
   "execution_count": 5,
   "metadata": {},
   "outputs": [
    {
     "name": "stdout",
     "output_type": "stream",
     "text": [
      "puste\n"
     ]
    }
   ],
   "source": [
    "lis = []\n",
    "if lis:\n",
    "    print('niepuste')\n",
    "else:\n",
    "    print('puste')"
   ]
  },
  {
   "cell_type": "code",
   "execution_count": 16,
   "metadata": {},
   "outputs": [
    {
     "name": "stdout",
     "output_type": "stream",
     "text": [
      "<class 'int'>\n",
      "False\n",
      "True\n",
      "<class 'bool'>\n",
      "a\n"
     ]
    }
   ],
   "source": [
    "# test czy bool może działać jako indeks listy\n",
    "# może\n",
    "bul = 1\n",
    "print(type(bul))\n",
    "\n",
    "print(not bul)\n",
    "\n",
    "bul = not bul\n",
    "print(not bul)\n",
    "\n",
    "print(type(bul))\n",
    "\n",
    "\n",
    "lis = ['a', 'b']\n",
    "print(lis[bul])"
   ]
  },
  {
   "cell_type": "code",
   "execution_count": 2,
   "metadata": {},
   "outputs": [
    {
     "name": "stdout",
     "output_type": "stream",
     "text": [
      "działa\n"
     ]
    }
   ],
   "source": [
    "# test wartości infinity\n",
    "\n",
    "inf = float('-inf')\n",
    "if 10 > inf:\n",
    "    print('działa')"
   ]
  }
 ],
 "metadata": {
  "kernelspec": {
   "display_name": "Python 3",
   "language": "python",
   "name": "python3"
  },
  "language_info": {
   "codemirror_mode": {
    "name": "ipython",
    "version": 3
   },
   "file_extension": ".py",
   "mimetype": "text/x-python",
   "name": "python",
   "nbconvert_exporter": "python",
   "pygments_lexer": "ipython3",
   "version": "3.10.12"
  }
 },
 "nbformat": 4,
 "nbformat_minor": 2
}
